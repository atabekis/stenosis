{
 "cells": [
  {
   "cell_type": "code",
   "id": "initial_id",
   "metadata": {
    "collapsed": true,
    "ExecuteTime": {
     "end_time": "2025-03-11T18:04:11.746366Z",
     "start_time": "2025-03-11T18:04:11.739859Z"
    }
   },
   "source": [
    "import os\n",
    "\n",
    "from config import CADICA_DATASET_DIR\n"
   ],
   "outputs": [],
   "execution_count": 3
  },
  {
   "metadata": {
    "ExecuteTime": {
     "end_time": "2025-03-11T18:04:57.313169Z",
     "start_time": "2025-03-11T18:04:57.303811Z"
    }
   },
   "cell_type": "code",
   "source": [
    "os.listdir(CADICA_DATASET_DIR)\n",
    "selected_videos = CADICA_DATASET_DIR / 'selectedVideos'\n",
    "nonselected_videos = CADICA_DATASET_DIR / 'nonselectedVideos'\n"
   ],
   "id": "1eea001833ccdca5",
   "outputs": [],
   "execution_count": 5
  },
  {
   "metadata": {
    "ExecuteTime": {
     "end_time": "2025-03-11T18:09:41.661403Z",
     "start_time": "2025-03-11T18:09:41.648834Z"
    }
   },
   "cell_type": "code",
   "source": [
    "selected_patients = sorted(os.listdir(selected_videos),  key=lambda x: int(x.split('p')[1]))\n",
    "selected_patients"
   ],
   "id": "d78a87120c92e769",
   "outputs": [
    {
     "data": {
      "text/plain": [
       "['p1',\n",
       " 'p2',\n",
       " 'p3',\n",
       " 'p4',\n",
       " 'p5',\n",
       " 'p6',\n",
       " 'p7',\n",
       " 'p8',\n",
       " 'p9',\n",
       " 'p10',\n",
       " 'p11',\n",
       " 'p12',\n",
       " 'p13',\n",
       " 'p14',\n",
       " 'p15',\n",
       " 'p16',\n",
       " 'p17',\n",
       " 'p18',\n",
       " 'p19',\n",
       " 'p20',\n",
       " 'p21',\n",
       " 'p22',\n",
       " 'p23',\n",
       " 'p24',\n",
       " 'p25',\n",
       " 'p26',\n",
       " 'p27',\n",
       " 'p28',\n",
       " 'p29',\n",
       " 'p30',\n",
       " 'p31',\n",
       " 'p32',\n",
       " 'p33',\n",
       " 'p34',\n",
       " 'p35',\n",
       " 'p36',\n",
       " 'p37',\n",
       " 'p38',\n",
       " 'p39',\n",
       " 'p40',\n",
       " 'p41',\n",
       " 'p42']"
      ]
     },
     "execution_count": 14,
     "metadata": {},
     "output_type": "execute_result"
    }
   ],
   "execution_count": 14
  },
  {
   "metadata": {
    "ExecuteTime": {
     "end_time": "2025-03-11T18:17:09.227692Z",
     "start_time": "2025-03-11T18:17:09.220541Z"
    }
   },
   "cell_type": "code",
   "source": [
    "def extract_lesion_nonlesion(patient_dir):\n",
    "    lesion_videos = open(os.path.join(patient_dir, 'lesionVideos.txt')).read().split('\\n')[:-1]\n",
    "    nonlesion_videos = open(os.path.join(patient_dir, 'nonlesionVideos.txt')).read().split('\\n')[:-1]\n",
    "    print(lesion_videos)\n",
    "\n",
    "extract_lesion_nonlesion(os.path.join(selected_videos, selected_patients[0]))"
   ],
   "id": "7a91fffd4f6350ac",
   "outputs": [
    {
     "name": "stdout",
     "output_type": "stream",
     "text": [
      "['v2', 'v3', 'v10', 'v11']\n"
     ]
    }
   ],
   "execution_count": 23
  },
  {
   "metadata": {
    "ExecuteTime": {
     "end_time": "2025-03-13T18:55:13.689992Z",
     "start_time": "2025-03-13T18:55:13.680189Z"
    }
   },
   "cell_type": "code",
   "source": [
    "import scipy\n",
    "\n",
    "test = \"../data/CADICA/selectedVideos/p1/v2/groundtruth/p1_v2_groundTruthTable.mat\"\n",
    "mat = scipy.io.loadmat(test)\n",
    "mat"
   ],
   "id": "83495ecf7a36b040",
   "outputs": [
    {
     "data": {
      "text/plain": [
       "{'__header__': b'MATLAB 5.0 MAT-file, Platform: PCWIN64, Created on: Wed Apr 20 14:05:32 2022',\n",
       " '__version__': '1.0',\n",
       " '__globals__': [],\n",
       " 'None': MatlabOpaque([(b'groundTruthTable', b'MCOS', b'table', array([[3707764736],\n",
       "                      [         2],\n",
       "                      [         1],\n",
       "                      [         1],\n",
       "                      [         1],\n",
       "                      [         1]], dtype=uint32))                         ],\n",
       "              dtype=[('s0', 'O'), ('s1', 'O'), ('s2', 'O'), ('arr', 'O')]),\n",
       " '__function_workspace__': array([[ 0,  1, 73, ...,  0,  0,  0]], shape=(1, 11832), dtype=uint8)}"
      ]
     },
     "execution_count": 3,
     "metadata": {},
     "output_type": "execute_result"
    }
   ],
   "execution_count": 3
  }
 ],
 "metadata": {
  "kernelspec": {
   "display_name": "Python 3",
   "language": "python",
   "name": "python3"
  },
  "language_info": {
   "codemirror_mode": {
    "name": "ipython",
    "version": 2
   },
   "file_extension": ".py",
   "mimetype": "text/x-python",
   "name": "python",
   "nbconvert_exporter": "python",
   "pygments_lexer": "ipython2",
   "version": "2.7.6"
  }
 },
 "nbformat": 4,
 "nbformat_minor": 5
}
